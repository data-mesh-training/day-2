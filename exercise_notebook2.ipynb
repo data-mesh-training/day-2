{
 "nbformat": 4,
 "nbformat_minor": 0,
 "metadata": {
  "colab": {
   "provenance": [],
   "authorship_tag": "ABX9TyOyJUoR2Zu2LXO4rzAiqu32"
  },
  "kernelspec": {
   "name": "python3",
   "display_name": "Python 3"
  },
  "language_info": {
   "name": "python"
  }
 },
 "cells": [
  {
   "cell_type": "markdown",
   "source": [
    "# Data Product Development Bootcamp - Day 2\n",
    "## Technical Feasibility Check\n",
    "Welcome to the practical exercise part of the Data Product Development Bootcamp. The following commands of this notebook should allow you to check if your technical setup is operating correctly and if your notebooks can be operated as planned. Please execute the below hello world example and confirm that the output is as expected. Please after that execute the below **git clone** command which will load the data and code that will be used in today's exercises.\n",
    "\n",
    "If everything works fine, you are set up successfully to participate in today's practical exercises!"
   ],
   "metadata": {
    "id": "_6QdmDHhWfwA"
   }
  },
  {
   "cell_type": "code",
   "execution_count": null,
   "metadata": {
    "id": "g-rCZE0BWXu6"
   },
   "outputs": [],
   "source": [
    "print(\"Hello World!\")"
   ]
  },
  {
   "cell_type": "code",
   "source": [
    "import pandas as pd\n",
    "data = [['foo', 10], ['bar', 15], ['baz', 14]]\n",
    "pd.DataFrame(data, columns = ['Key', 'Value'])"
   ],
   "metadata": {
    "id": "wdqp0PGVWeEr"
   },
   "execution_count": null,
   "outputs": []
  },
  {
   "cell_type": "code",
   "source": [
    "!git clone https://github.com/data-mesh-training/day-2.git"
   ],
   "metadata": {
    "id": "Cg1Jpj1CWmHP"
   },
   "execution_count": null,
   "outputs": []
  },
  {
   "cell_type": "code",
   "execution_count": null,
   "outputs": [],
   "source": [
    "!pip install yamlmagic"
   ],
   "metadata": {
    "collapsed": false
   }
  },
  {
   "cell_type": "code",
   "execution_count": null,
   "outputs": [],
   "source": [
    "%reload_ext yamlmagic"
   ],
   "metadata": {
    "collapsed": false
   }
  },
  {
   "cell_type": "code",
   "source": [
    "cd day-2/scripts/"
   ],
   "metadata": {
    "id": "NrPPZgYvWnwg"
   },
   "execution_count": null,
   "outputs": []
  },
  {
   "cell_type": "markdown",
   "source": [
    "----------------------------------------------------------------------------------------"
   ],
   "metadata": {
    "id": "lpqw0NEAWoVR"
   }
  },
  {
   "cell_type": "markdown",
   "source": [
    "# Exercise 1 - Data Product Basics\n",
    "## Data Product Creation with Data Platform support\n",
    "In yesterday's exercises we have learned to write a good schema and description for our salesorder dataset on paper. Today we are looking at a new article dataset that provides us with information about the articles our shop has for sale. Instead of repeating yesterday's exercise we are now introducing a more programmatic framework of defining a data product according to the template below. We will then submit our creations to a central data catalog service."
   ],
   "metadata": {
    "id": "OQiQeMFJWtbS"
   }
  },
  {
   "cell_type": "code",
   "source": [
    "%%yaml data_product_spec\n",
    "\n",
    "data_product_name: sales_order\n",
    "owner:\n",
    "    team: team-x\n",
    "    domain: domain-z\n",
    "stakeholders:\n",
    "  - team: team-y\n",
    "description: \"dataset description abc\"\n",
    "schema:\n",
    "  - name: field_name\n",
    "    type: int\n",
    "  - name: field_name2\n",
    "    type: string"
   ],
   "metadata": {
    "id": "TRnl0_lUWsau"
   },
   "execution_count": null,
   "outputs": []
  },
  {
   "cell_type": "code",
   "execution_count": null,
   "outputs": [],
   "source": [
    "from platform import create_dp\n",
    "\n",
    "create_dp(data_product_spec)"
   ],
   "metadata": {
    "collapsed": false
   }
  },
  {
   "cell_type": "markdown",
   "source": [
    "# Exercise 2 - Advanced Data Products\n",
    "## Extending the Data Product template\n",
    "In this exercise we will go beyond the basics of schema, description, and ownership information and introduce the concepts of output ports, data SLOs, and tagging to our data product. We will then again submit our creations to the central data catalog service."
   ],
   "metadata": {
    "id": "mrwJa8rvZI3-"
   }
  },
  {
   "cell_type": "code",
   "source": [],
   "metadata": {
    "id": "UQh-0x2mZ-F-"
   },
   "execution_count": null,
   "outputs": []
  },
  {
   "cell_type": "markdown",
   "source": [
    "#Exercise 3 - Scaling Data Products\n",
    "## Consumer aligned Data Products\n",
    "In this exercise we will define a consumer aligned data product that combines data from the two salesorder and article data products we have previously introduced to create a new, aggregated data product that allows to answer higher level questions that our management board is interested in. Please make sure the new data product can cover the following two questions:\n",
    "\n",
    "*   What is our best selling article in a given month?\n",
    "*   Which article group was sold the most in total?\n",
    "\n",
    "Please use the central catalog service to find all the information you need about the two source data products, and then define and submit the aggregated data product back to the catalog service.\n"
   ],
   "metadata": {
    "id": "ne3dS5LGZ-ki"
   }
  },
  {
   "cell_type": "code",
   "source": [],
   "metadata": {
    "id": "-d3soOgWa3Ub"
   },
   "execution_count": null,
   "outputs": []
  }
 ]
}
